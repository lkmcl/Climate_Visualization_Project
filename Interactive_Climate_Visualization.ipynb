{
 "cells": [
  {
   "cell_type": "code",
   "execution_count": 1,
   "id": "c6240680",
   "metadata": {},
   "outputs": [],
   "source": [
    "import numpy as np\n",
    "import pandas as pd\n",
    "import textwrap\n",
    "import nbimporter\n",
    "\n",
    "import ipywidgets as widgets\n",
    "from ipywidgets import interact, interact_manual\n",
    "import IPython.display\n",
    "from IPython.display import display, clear_output\n",
    "import plotly.graph_objects as go\n",
    "\n",
    "from analyze_city_climate_data import analyze_city_climate_data\n",
    "\n",
    "## NOTE: This cell MUST be ran in order for the plot to generate due to the nature of the dropdown widgets.\n",
    "\n",
    "def City_Temperature_Timeseries_Analysis():\n",
    "    \n",
    "    \"\"\"\n",
    "    Function call to produce the City Average Temperature Timeseries Visualization and Widgets.\n",
    "    \n",
    "    \"\"\"\n",
    "    \n",
    "    ## Locations that have keys that can be called. These cities will be passed to the dropdown menu and are\n",
    "    #     the only ones that can be called at this time.\n",
    "    locations = ['Raleigh, NC', 'Albany, NY', 'Seattle, WA', 'Dallas, TX',\n",
    "                          'Salt Lake City, UT', 'Bismark, ND','Kansas City, MO', \n",
    "                 'Flagstaff, AZ','Indianapolis, IN', 'Tallahassee, FL']\n",
    "\n",
    "    ## \"Annual\" and monthls for each year for for the dropdown menu. Relates to the average being calculated for\n",
    "    #     each year\n",
    "    timescales = ['Annual', 'January', 'February', 'March', 'April',\n",
    "                  'May', 'June', 'July', 'August', 'September',\n",
    "                  'October', 'November', 'December']\n",
    "    \n",
    "    \n",
    "    ### Defines start year and end year ranges to be supplied to the drowndown menu\n",
    "    start_years = range(1890, 2021+1)\n",
    "    end_years = range(1890, 2021+1)\n",
    "\n",
    "    \n",
    "    def dropdown_menu_widget_City_Climate(locations, timescales, start_years, end_years):\n",
    "\n",
    "        \"\"\"\n",
    "        Function produces widgets that are functional with the locations, timescales, start years, and end years\n",
    "        specified. Only those listed above in the full function will sufficiently work with the software. The\n",
    "        widgets prompted are dropdown menus. This function calls the 'analyze_city_climate_data' function from\n",
    "        the repo to produce the interactive time series plot. Upon any change to one of the dropdown menus' values,\n",
    "        the software will automatically update the plot without any other functions called.\n",
    "        \n",
    "        Inputs:\n",
    "        \n",
    "        locations (list): elements structured \"City, ST\" in which the state is the two letter state abbreviation.\n",
    "    \n",
    "        timescale (list): elements with either \"Annual\" or one of the months of the year.\n",
    "    \n",
    "        start_years (range): range of years which contains a possible start year\n",
    "    \n",
    "        end_year (range): range of years which contains a possible end year\n",
    "    \n",
    "        Returns:\n",
    "        Widgets containin the locations, timescales, start years, and end years for the user to choose. Upon filling\n",
    "        these out, the city timeseries visualization will be prompted.\n",
    "    \n",
    "        \"\"\"\n",
    "        output = widgets.Output()\n",
    "        \n",
    "        ## Create dropdown menus\n",
    "        dropdown_locations = widgets.Dropdown(options = sorted(locations), value=None, description='Cities:')\n",
    "        dropdown_timescales = widgets.Dropdown(options = timescales, value=None, description='Annual/Month:')\n",
    "        dropdown_start_year = widgets.Dropdown(options = start_years, value=None, description='Start Year:')\n",
    "        dropdown_end_year = widgets.Dropdown(options = end_years, value=None, description='End Year:')\n",
    "\n",
    "        ## Define the event handlers. These functions handle changes to the dropdown menu values. Every time there is\n",
    "        #     a change to one of the menus by the user, the analysis is rerun to produce an updated plot. The previous\n",
    "        #     plot is also cleared\n",
    "        \n",
    "        def dropdown_location_eventhandler(change):\n",
    "            \"\"\"\n",
    "            Eventhandler for the location dropdown widget\n",
    "            \"\"\"\n",
    "            display(input_widgets)\n",
    "            location_choice = change.new\n",
    "            analyze_city_climate_data(location_choice, dropdown_timescales.value, \n",
    "                                      dropdown_start_year.value, dropdown_end_year.value)\n",
    "            IPython.display.clear_output(wait=True)            \n",
    "\n",
    "        def dropdown_timescale_eventhandler(change):\n",
    "            \"\"\"\n",
    "            Eventhandler for the timescale dropdown widget\n",
    "            \"\"\"\n",
    "            display(input_widgets)\n",
    "            timescale_choice = change.new\n",
    "            analyze_city_climate_data(dropdown_locations.value, timescale_choice, \n",
    "                                      dropdown_start_year.value, dropdown_end_year.value)\n",
    "            IPython.display.clear_output(wait=True)\n",
    "\n",
    "        def dropdown_start_year_eventhandler(change):     \n",
    "            \"\"\"\n",
    "            Event handler for the start year dropdown widget\n",
    "            \"\"\"\n",
    "            display(input_widgets)\n",
    "            start_year_choice = change.new\n",
    "            analyze_city_climate_data(dropdown_locations.value, dropdown_timescales.value, \n",
    "                                      start_year_choice, dropdown_end_year.value)\n",
    "            IPython.display.clear_output(wait=True)\n",
    "\n",
    "        def dropdown_end_year_eventhandler(change):     \n",
    "            \"\"\"\n",
    "            Event handler for the end year dropdown widget\n",
    "            \"\"\"\n",
    "            display(input_widgets)\n",
    "            end_year_choice = change.new\n",
    "            analyze_city_climate_data(dropdown_locations.value, dropdown_timescales.value, \n",
    "                                      dropdown_start_year.value, end_year_choice)\n",
    "            IPython.display.clear_output(wait=True)\n",
    "\n",
    "        \n",
    "        ## Lines that observe the changes to the dropdown menus and runs any necessary functions above\n",
    "        dropdown_locations.observe(dropdown_location_eventhandler, names='value')\n",
    "        dropdown_timescales.observe(dropdown_timescale_eventhandler, names='value')\n",
    "        dropdown_start_year.observe(dropdown_start_year_eventhandler, names='value')\n",
    "        dropdown_end_year.observe(dropdown_end_year_eventhandler, names='value')\n",
    "        \n",
    "        ## Creating the widget objects that are shown on screen\n",
    "        input_widgets = widgets.HBox([dropdown_locations, dropdown_timescales, dropdown_start_year, dropdown_end_year])\n",
    "        \n",
    "        ## Displaying the widgets\n",
    "        display(input_widgets)\n",
    "        IPython.display.clear_output(wait=True) \n",
    "\n",
    "        return\n",
    "    \n",
    "    ## Ending call to widget function from the main function which contains the required input lists for the software\n",
    "    dropdown_menu_widget_City_Climate(locations, timescales, start_years, end_years)\n",
    "    \n",
    "    return\n",
    "\n",
    "\n",
    "## Testing for these functions are manually completed by which if the dropdown menus display the plots and update the plots\n",
    "#     accordingly then these functions are sufficient"
   ]
  },
  {
   "cell_type": "code",
   "execution_count": 2,
   "id": "90089cd2",
   "metadata": {},
   "outputs": [
    {
     "data": {
      "application/vnd.jupyter.widget-view+json": {
       "model_id": "2ecfa2b8ecd3480d85fc30f99850b5fa",
       "version_major": 2,
       "version_minor": 0
      },
      "text/plain": [
       "HBox(children=(Dropdown(description='Cities:', index=6, options=('Albany, NY', 'Bismark, ND', 'Dallas, TX', 'F…"
      ]
     },
     "metadata": {},
     "output_type": "display_data"
    },
    {
     "data": {
      "application/vnd.plotly.v1+json": {
       "config": {
        "plotlyServerURL": "https://plot.ly"
       },
       "data": [
        {
         "mode": "lines+markers",
         "name": "Average Temperature",
         "type": "scatter",
         "x": [
          1892,
          1893,
          1894,
          1895,
          1896,
          1897,
          1898,
          1899,
          1900,
          1901,
          1902,
          1903,
          1904,
          1905,
          1906,
          1907,
          1908,
          1909,
          1910,
          1911,
          1912,
          1913,
          1914,
          1915,
          1916,
          1917,
          1918,
          1919,
          1920,
          1921,
          1922,
          1923,
          1924,
          1925,
          1926,
          1927,
          1928,
          1929,
          1930,
          1931,
          1932,
          1933,
          1934,
          1935,
          1936,
          1937,
          1938,
          1939,
          1940,
          1941,
          1942,
          1943,
          1944,
          1945,
          1946,
          1947,
          1948,
          1949,
          1950,
          1951,
          1952,
          1953,
          1954,
          1955,
          1956,
          1957,
          1958,
          1959,
          1960,
          1961,
          1962,
          1963,
          1964,
          1965,
          1966,
          1967,
          1968,
          1969,
          1970,
          1971,
          1972,
          1973,
          1974,
          1975,
          1976,
          1977,
          1978,
          1979,
          1980,
          1981,
          1982,
          1983,
          1984,
          1985,
          1986,
          1987,
          1988,
          1989,
          1990,
          1991,
          1992,
          1993,
          1994,
          1995,
          1996,
          1997,
          1998,
          1999,
          2000,
          2001,
          2002,
          2003,
          2004,
          2005,
          2006,
          2007,
          2008,
          2009,
          2010,
          2011,
          2012,
          2013,
          2014,
          2015,
          2016,
          2017,
          2018,
          2019,
          2020,
          2021,
          2022
         ],
         "y": [
          7.09,
          8.44,
          7.71,
          9.93,
          12.42,
          10.37,
          7.95,
          10.07,
          10.98,
          6.03,
          12.96,
          7.93,
          8.32,
          9.39,
          10.15,
          8.49,
          10.4,
          12.13,
          6.52,
          7.84,
          9.29,
          9.81,
          9.13,
          10.59,
          9.8,
          7.56,
          8.85,
          10.22,
          8.95,
          11.11,
          9.58,
          8.82,
          9.71,
          7.9,
          8.09,
          11.98,
          9.94,
          10.43,
          8.23,
          13.02,
          8.15,
          9.32,
          11.48,
          11.06,
          8.77,
          8.4,
          11.57,
          8.33,
          9.85,
          10.58,
          11.09,
          9.25,
          9.14,
          10.87,
          12.44,
          8.14,
          12.73,
          9.31,
          9,
          7.69,
          10.33,
          9.95,
          7.48,
          8.96,
          9.27,
          10.9,
          12.13,
          10.19,
          11.09,
          11.29,
          8.68,
          10.66,
          12.27,
          10.82,
          10.18,
          8.16,
          10.86,
          8.94,
          10.54,
          10.26,
          9.44,
          12.47,
          10.03,
          11.63,
          7.09,
          11.83,
          11.67,
          11.94,
          9.27,
          9.55,
          11.2,
          10.89,
          9.04,
          15.02,
          11.32,
          11.53,
          10.83,
          11.13,
          11.49,
          10.18,
          11.11,
          10.99,
          12.24,
          8.21,
          7.56,
          8.65,
          11.25,
          13.02,
          8.85,
          13.56,
          9.64,
          13.58,
          12.11,
          11.61,
          11.36,
          10.61,
          9.18,
          11.95,
          10.65,
          12.21,
          8.4,
          9.34,
          7.93,
          13.01,
          11.38,
          10.03,
          9.27,
          8.78,
          13.13,
          9.23,
          12.92
         ]
        }
       ],
       "layout": {
        "annotations": [
         {
          "showarrow": false,
          "text": "1981-2010 Mean: 10.9°C",
          "x": 0,
          "xanchor": "left",
          "xref": "x domain",
          "y": 10.943666666666669,
          "yanchor": "bottom",
          "yref": "y"
         }
        ],
        "font": {
         "size": 14
        },
        "shapes": [
         {
          "line": {
           "color": "red"
          },
          "type": "line",
          "x0": 0,
          "x1": 1,
          "xref": "x domain",
          "y0": 10.943666666666669,
          "y1": 10.943666666666669,
          "yref": "y"
         }
        ],
        "showlegend": false,
        "template": {
         "data": {
          "bar": [
           {
            "error_x": {
             "color": "#2a3f5f"
            },
            "error_y": {
             "color": "#2a3f5f"
            },
            "marker": {
             "line": {
              "color": "#E5ECF6",
              "width": 0.5
             },
             "pattern": {
              "fillmode": "overlay",
              "size": 10,
              "solidity": 0.2
             }
            },
            "type": "bar"
           }
          ],
          "barpolar": [
           {
            "marker": {
             "line": {
              "color": "#E5ECF6",
              "width": 0.5
             },
             "pattern": {
              "fillmode": "overlay",
              "size": 10,
              "solidity": 0.2
             }
            },
            "type": "barpolar"
           }
          ],
          "carpet": [
           {
            "aaxis": {
             "endlinecolor": "#2a3f5f",
             "gridcolor": "white",
             "linecolor": "white",
             "minorgridcolor": "white",
             "startlinecolor": "#2a3f5f"
            },
            "baxis": {
             "endlinecolor": "#2a3f5f",
             "gridcolor": "white",
             "linecolor": "white",
             "minorgridcolor": "white",
             "startlinecolor": "#2a3f5f"
            },
            "type": "carpet"
           }
          ],
          "choropleth": [
           {
            "colorbar": {
             "outlinewidth": 0,
             "ticks": ""
            },
            "type": "choropleth"
           }
          ],
          "contour": [
           {
            "colorbar": {
             "outlinewidth": 0,
             "ticks": ""
            },
            "colorscale": [
             [
              0,
              "#0d0887"
             ],
             [
              0.1111111111111111,
              "#46039f"
             ],
             [
              0.2222222222222222,
              "#7201a8"
             ],
             [
              0.3333333333333333,
              "#9c179e"
             ],
             [
              0.4444444444444444,
              "#bd3786"
             ],
             [
              0.5555555555555556,
              "#d8576b"
             ],
             [
              0.6666666666666666,
              "#ed7953"
             ],
             [
              0.7777777777777778,
              "#fb9f3a"
             ],
             [
              0.8888888888888888,
              "#fdca26"
             ],
             [
              1,
              "#f0f921"
             ]
            ],
            "type": "contour"
           }
          ],
          "contourcarpet": [
           {
            "colorbar": {
             "outlinewidth": 0,
             "ticks": ""
            },
            "type": "contourcarpet"
           }
          ],
          "heatmap": [
           {
            "colorbar": {
             "outlinewidth": 0,
             "ticks": ""
            },
            "colorscale": [
             [
              0,
              "#0d0887"
             ],
             [
              0.1111111111111111,
              "#46039f"
             ],
             [
              0.2222222222222222,
              "#7201a8"
             ],
             [
              0.3333333333333333,
              "#9c179e"
             ],
             [
              0.4444444444444444,
              "#bd3786"
             ],
             [
              0.5555555555555556,
              "#d8576b"
             ],
             [
              0.6666666666666666,
              "#ed7953"
             ],
             [
              0.7777777777777778,
              "#fb9f3a"
             ],
             [
              0.8888888888888888,
              "#fdca26"
             ],
             [
              1,
              "#f0f921"
             ]
            ],
            "type": "heatmap"
           }
          ],
          "heatmapgl": [
           {
            "colorbar": {
             "outlinewidth": 0,
             "ticks": ""
            },
            "colorscale": [
             [
              0,
              "#0d0887"
             ],
             [
              0.1111111111111111,
              "#46039f"
             ],
             [
              0.2222222222222222,
              "#7201a8"
             ],
             [
              0.3333333333333333,
              "#9c179e"
             ],
             [
              0.4444444444444444,
              "#bd3786"
             ],
             [
              0.5555555555555556,
              "#d8576b"
             ],
             [
              0.6666666666666666,
              "#ed7953"
             ],
             [
              0.7777777777777778,
              "#fb9f3a"
             ],
             [
              0.8888888888888888,
              "#fdca26"
             ],
             [
              1,
              "#f0f921"
             ]
            ],
            "type": "heatmapgl"
           }
          ],
          "histogram": [
           {
            "marker": {
             "pattern": {
              "fillmode": "overlay",
              "size": 10,
              "solidity": 0.2
             }
            },
            "type": "histogram"
           }
          ],
          "histogram2d": [
           {
            "colorbar": {
             "outlinewidth": 0,
             "ticks": ""
            },
            "colorscale": [
             [
              0,
              "#0d0887"
             ],
             [
              0.1111111111111111,
              "#46039f"
             ],
             [
              0.2222222222222222,
              "#7201a8"
             ],
             [
              0.3333333333333333,
              "#9c179e"
             ],
             [
              0.4444444444444444,
              "#bd3786"
             ],
             [
              0.5555555555555556,
              "#d8576b"
             ],
             [
              0.6666666666666666,
              "#ed7953"
             ],
             [
              0.7777777777777778,
              "#fb9f3a"
             ],
             [
              0.8888888888888888,
              "#fdca26"
             ],
             [
              1,
              "#f0f921"
             ]
            ],
            "type": "histogram2d"
           }
          ],
          "histogram2dcontour": [
           {
            "colorbar": {
             "outlinewidth": 0,
             "ticks": ""
            },
            "colorscale": [
             [
              0,
              "#0d0887"
             ],
             [
              0.1111111111111111,
              "#46039f"
             ],
             [
              0.2222222222222222,
              "#7201a8"
             ],
             [
              0.3333333333333333,
              "#9c179e"
             ],
             [
              0.4444444444444444,
              "#bd3786"
             ],
             [
              0.5555555555555556,
              "#d8576b"
             ],
             [
              0.6666666666666666,
              "#ed7953"
             ],
             [
              0.7777777777777778,
              "#fb9f3a"
             ],
             [
              0.8888888888888888,
              "#fdca26"
             ],
             [
              1,
              "#f0f921"
             ]
            ],
            "type": "histogram2dcontour"
           }
          ],
          "mesh3d": [
           {
            "colorbar": {
             "outlinewidth": 0,
             "ticks": ""
            },
            "type": "mesh3d"
           }
          ],
          "parcoords": [
           {
            "line": {
             "colorbar": {
              "outlinewidth": 0,
              "ticks": ""
             }
            },
            "type": "parcoords"
           }
          ],
          "pie": [
           {
            "automargin": true,
            "type": "pie"
           }
          ],
          "scatter": [
           {
            "marker": {
             "colorbar": {
              "outlinewidth": 0,
              "ticks": ""
             }
            },
            "type": "scatter"
           }
          ],
          "scatter3d": [
           {
            "line": {
             "colorbar": {
              "outlinewidth": 0,
              "ticks": ""
             }
            },
            "marker": {
             "colorbar": {
              "outlinewidth": 0,
              "ticks": ""
             }
            },
            "type": "scatter3d"
           }
          ],
          "scattercarpet": [
           {
            "marker": {
             "colorbar": {
              "outlinewidth": 0,
              "ticks": ""
             }
            },
            "type": "scattercarpet"
           }
          ],
          "scattergeo": [
           {
            "marker": {
             "colorbar": {
              "outlinewidth": 0,
              "ticks": ""
             }
            },
            "type": "scattergeo"
           }
          ],
          "scattergl": [
           {
            "marker": {
             "colorbar": {
              "outlinewidth": 0,
              "ticks": ""
             }
            },
            "type": "scattergl"
           }
          ],
          "scattermapbox": [
           {
            "marker": {
             "colorbar": {
              "outlinewidth": 0,
              "ticks": ""
             }
            },
            "type": "scattermapbox"
           }
          ],
          "scatterpolar": [
           {
            "marker": {
             "colorbar": {
              "outlinewidth": 0,
              "ticks": ""
             }
            },
            "type": "scatterpolar"
           }
          ],
          "scatterpolargl": [
           {
            "marker": {
             "colorbar": {
              "outlinewidth": 0,
              "ticks": ""
             }
            },
            "type": "scatterpolargl"
           }
          ],
          "scatterternary": [
           {
            "marker": {
             "colorbar": {
              "outlinewidth": 0,
              "ticks": ""
             }
            },
            "type": "scatterternary"
           }
          ],
          "surface": [
           {
            "colorbar": {
             "outlinewidth": 0,
             "ticks": ""
            },
            "colorscale": [
             [
              0,
              "#0d0887"
             ],
             [
              0.1111111111111111,
              "#46039f"
             ],
             [
              0.2222222222222222,
              "#7201a8"
             ],
             [
              0.3333333333333333,
              "#9c179e"
             ],
             [
              0.4444444444444444,
              "#bd3786"
             ],
             [
              0.5555555555555556,
              "#d8576b"
             ],
             [
              0.6666666666666666,
              "#ed7953"
             ],
             [
              0.7777777777777778,
              "#fb9f3a"
             ],
             [
              0.8888888888888888,
              "#fdca26"
             ],
             [
              1,
              "#f0f921"
             ]
            ],
            "type": "surface"
           }
          ],
          "table": [
           {
            "cells": {
             "fill": {
              "color": "#EBF0F8"
             },
             "line": {
              "color": "white"
             }
            },
            "header": {
             "fill": {
              "color": "#C8D4E3"
             },
             "line": {
              "color": "white"
             }
            },
            "type": "table"
           }
          ]
         },
         "layout": {
          "annotationdefaults": {
           "arrowcolor": "#2a3f5f",
           "arrowhead": 0,
           "arrowwidth": 1
          },
          "autotypenumbers": "strict",
          "coloraxis": {
           "colorbar": {
            "outlinewidth": 0,
            "ticks": ""
           }
          },
          "colorscale": {
           "diverging": [
            [
             0,
             "#8e0152"
            ],
            [
             0.1,
             "#c51b7d"
            ],
            [
             0.2,
             "#de77ae"
            ],
            [
             0.3,
             "#f1b6da"
            ],
            [
             0.4,
             "#fde0ef"
            ],
            [
             0.5,
             "#f7f7f7"
            ],
            [
             0.6,
             "#e6f5d0"
            ],
            [
             0.7,
             "#b8e186"
            ],
            [
             0.8,
             "#7fbc41"
            ],
            [
             0.9,
             "#4d9221"
            ],
            [
             1,
             "#276419"
            ]
           ],
           "sequential": [
            [
             0,
             "#0d0887"
            ],
            [
             0.1111111111111111,
             "#46039f"
            ],
            [
             0.2222222222222222,
             "#7201a8"
            ],
            [
             0.3333333333333333,
             "#9c179e"
            ],
            [
             0.4444444444444444,
             "#bd3786"
            ],
            [
             0.5555555555555556,
             "#d8576b"
            ],
            [
             0.6666666666666666,
             "#ed7953"
            ],
            [
             0.7777777777777778,
             "#fb9f3a"
            ],
            [
             0.8888888888888888,
             "#fdca26"
            ],
            [
             1,
             "#f0f921"
            ]
           ],
           "sequentialminus": [
            [
             0,
             "#0d0887"
            ],
            [
             0.1111111111111111,
             "#46039f"
            ],
            [
             0.2222222222222222,
             "#7201a8"
            ],
            [
             0.3333333333333333,
             "#9c179e"
            ],
            [
             0.4444444444444444,
             "#bd3786"
            ],
            [
             0.5555555555555556,
             "#d8576b"
            ],
            [
             0.6666666666666666,
             "#ed7953"
            ],
            [
             0.7777777777777778,
             "#fb9f3a"
            ],
            [
             0.8888888888888888,
             "#fdca26"
            ],
            [
             1,
             "#f0f921"
            ]
           ]
          },
          "colorway": [
           "#636efa",
           "#EF553B",
           "#00cc96",
           "#ab63fa",
           "#FFA15A",
           "#19d3f3",
           "#FF6692",
           "#B6E880",
           "#FF97FF",
           "#FECB52"
          ],
          "font": {
           "color": "#2a3f5f"
          },
          "geo": {
           "bgcolor": "white",
           "lakecolor": "white",
           "landcolor": "#E5ECF6",
           "showlakes": true,
           "showland": true,
           "subunitcolor": "white"
          },
          "hoverlabel": {
           "align": "left"
          },
          "hovermode": "closest",
          "mapbox": {
           "style": "light"
          },
          "paper_bgcolor": "white",
          "plot_bgcolor": "#E5ECF6",
          "polar": {
           "angularaxis": {
            "gridcolor": "white",
            "linecolor": "white",
            "ticks": ""
           },
           "bgcolor": "#E5ECF6",
           "radialaxis": {
            "gridcolor": "white",
            "linecolor": "white",
            "ticks": ""
           }
          },
          "scene": {
           "xaxis": {
            "backgroundcolor": "#E5ECF6",
            "gridcolor": "white",
            "gridwidth": 2,
            "linecolor": "white",
            "showbackground": true,
            "ticks": "",
            "zerolinecolor": "white"
           },
           "yaxis": {
            "backgroundcolor": "#E5ECF6",
            "gridcolor": "white",
            "gridwidth": 2,
            "linecolor": "white",
            "showbackground": true,
            "ticks": "",
            "zerolinecolor": "white"
           },
           "zaxis": {
            "backgroundcolor": "#E5ECF6",
            "gridcolor": "white",
            "gridwidth": 2,
            "linecolor": "white",
            "showbackground": true,
            "ticks": "",
            "zerolinecolor": "white"
           }
          },
          "shapedefaults": {
           "line": {
            "color": "#2a3f5f"
           }
          },
          "ternary": {
           "aaxis": {
            "gridcolor": "white",
            "linecolor": "white",
            "ticks": ""
           },
           "baxis": {
            "gridcolor": "white",
            "linecolor": "white",
            "ticks": ""
           },
           "bgcolor": "#E5ECF6",
           "caxis": {
            "gridcolor": "white",
            "linecolor": "white",
            "ticks": ""
           }
          },
          "title": {
           "x": 0.05
          },
          "xaxis": {
           "automargin": true,
           "gridcolor": "white",
           "linecolor": "white",
           "ticks": "",
           "title": {
            "standoff": 15
           },
           "zerolinecolor": "white",
           "zerolinewidth": 2
          },
          "yaxis": {
           "automargin": true,
           "gridcolor": "white",
           "linecolor": "white",
           "ticks": "",
           "title": {
            "standoff": 15
           },
           "zerolinecolor": "white",
           "zerolinewidth": 2
          }
         }
        },
        "title": {
         "text": "Raleigh, NC November Average Temperature",
         "x": 0.5
        },
        "xaxis": {
         "gridcolor": "gray",
         "gridwidth": 1,
         "mirror": true,
         "range": [
          1890,
          2021
         ],
         "showgrid": true,
         "showline": true,
         "tickmode": "array",
         "ticks": "outside",
         "title": {
          "text": "Year"
         }
        },
        "yaxis": {
         "gridcolor": "gray",
         "gridwidth": 1,
         "mirror": true,
         "showgrid": true,
         "showline": true,
         "ticks": "outside",
         "title": {
          "text": "Temperature °C"
         }
        }
       }
      },
      "text/html": [
       "<div>                            <div id=\"a2bc7400-0054-4879-a2ff-64558ef922cf\" class=\"plotly-graph-div\" style=\"height:525px; width:100%;\"></div>            <script type=\"text/javascript\">                require([\"plotly\"], function(Plotly) {                    window.PLOTLYENV=window.PLOTLYENV || {};                                    if (document.getElementById(\"a2bc7400-0054-4879-a2ff-64558ef922cf\")) {                    Plotly.newPlot(                        \"a2bc7400-0054-4879-a2ff-64558ef922cf\",                        [{\"mode\":\"lines+markers\",\"name\":\"Average Temperature\",\"x\":[1892,1893,1894,1895,1896,1897,1898,1899,1900,1901,1902,1903,1904,1905,1906,1907,1908,1909,1910,1911,1912,1913,1914,1915,1916,1917,1918,1919,1920,1921,1922,1923,1924,1925,1926,1927,1928,1929,1930,1931,1932,1933,1934,1935,1936,1937,1938,1939,1940,1941,1942,1943,1944,1945,1946,1947,1948,1949,1950,1951,1952,1953,1954,1955,1956,1957,1958,1959,1960,1961,1962,1963,1964,1965,1966,1967,1968,1969,1970,1971,1972,1973,1974,1975,1976,1977,1978,1979,1980,1981,1982,1983,1984,1985,1986,1987,1988,1989,1990,1991,1992,1993,1994,1995,1996,1997,1998,1999,2000,2001,2002,2003,2004,2005,2006,2007,2008,2009,2010,2011,2012,2013,2014,2015,2016,2017,2018,2019,2020,2021,2022],\"y\":[7.09,8.44,7.71,9.93,12.42,10.37,7.95,10.07,10.98,6.03,12.96,7.93,8.32,9.39,10.15,8.49,10.4,12.13,6.52,7.84,9.29,9.81,9.13,10.59,9.8,7.56,8.85,10.22,8.95,11.11,9.58,8.82,9.71,7.9,8.09,11.98,9.94,10.43,8.23,13.02,8.15,9.32,11.48,11.06,8.77,8.4,11.57,8.33,9.85,10.58,11.09,9.25,9.14,10.87,12.44,8.14,12.73,9.31,9.0,7.69,10.33,9.95,7.48,8.96,9.27,10.9,12.13,10.19,11.09,11.29,8.68,10.66,12.27,10.82,10.18,8.16,10.86,8.94,10.54,10.26,9.44,12.47,10.03,11.63,7.09,11.83,11.67,11.94,9.27,9.55,11.2,10.89,9.04,15.02,11.32,11.53,10.83,11.13,11.49,10.18,11.11,10.99,12.24,8.21,7.56,8.65,11.25,13.02,8.85,13.56,9.64,13.58,12.11,11.61,11.36,10.61,9.18,11.95,10.65,12.21,8.4,9.34,7.93,13.01,11.38,10.03,9.27,8.78,13.13,9.23,12.92],\"type\":\"scatter\"}],                        {\"template\":{\"data\":{\"bar\":[{\"error_x\":{\"color\":\"#2a3f5f\"},\"error_y\":{\"color\":\"#2a3f5f\"},\"marker\":{\"line\":{\"color\":\"#E5ECF6\",\"width\":0.5},\"pattern\":{\"fillmode\":\"overlay\",\"size\":10,\"solidity\":0.2}},\"type\":\"bar\"}],\"barpolar\":[{\"marker\":{\"line\":{\"color\":\"#E5ECF6\",\"width\":0.5},\"pattern\":{\"fillmode\":\"overlay\",\"size\":10,\"solidity\":0.2}},\"type\":\"barpolar\"}],\"carpet\":[{\"aaxis\":{\"endlinecolor\":\"#2a3f5f\",\"gridcolor\":\"white\",\"linecolor\":\"white\",\"minorgridcolor\":\"white\",\"startlinecolor\":\"#2a3f5f\"},\"baxis\":{\"endlinecolor\":\"#2a3f5f\",\"gridcolor\":\"white\",\"linecolor\":\"white\",\"minorgridcolor\":\"white\",\"startlinecolor\":\"#2a3f5f\"},\"type\":\"carpet\"}],\"choropleth\":[{\"colorbar\":{\"outlinewidth\":0,\"ticks\":\"\"},\"type\":\"choropleth\"}],\"contour\":[{\"colorbar\":{\"outlinewidth\":0,\"ticks\":\"\"},\"colorscale\":[[0.0,\"#0d0887\"],[0.1111111111111111,\"#46039f\"],[0.2222222222222222,\"#7201a8\"],[0.3333333333333333,\"#9c179e\"],[0.4444444444444444,\"#bd3786\"],[0.5555555555555556,\"#d8576b\"],[0.6666666666666666,\"#ed7953\"],[0.7777777777777778,\"#fb9f3a\"],[0.8888888888888888,\"#fdca26\"],[1.0,\"#f0f921\"]],\"type\":\"contour\"}],\"contourcarpet\":[{\"colorbar\":{\"outlinewidth\":0,\"ticks\":\"\"},\"type\":\"contourcarpet\"}],\"heatmap\":[{\"colorbar\":{\"outlinewidth\":0,\"ticks\":\"\"},\"colorscale\":[[0.0,\"#0d0887\"],[0.1111111111111111,\"#46039f\"],[0.2222222222222222,\"#7201a8\"],[0.3333333333333333,\"#9c179e\"],[0.4444444444444444,\"#bd3786\"],[0.5555555555555556,\"#d8576b\"],[0.6666666666666666,\"#ed7953\"],[0.7777777777777778,\"#fb9f3a\"],[0.8888888888888888,\"#fdca26\"],[1.0,\"#f0f921\"]],\"type\":\"heatmap\"}],\"heatmapgl\":[{\"colorbar\":{\"outlinewidth\":0,\"ticks\":\"\"},\"colorscale\":[[0.0,\"#0d0887\"],[0.1111111111111111,\"#46039f\"],[0.2222222222222222,\"#7201a8\"],[0.3333333333333333,\"#9c179e\"],[0.4444444444444444,\"#bd3786\"],[0.5555555555555556,\"#d8576b\"],[0.6666666666666666,\"#ed7953\"],[0.7777777777777778,\"#fb9f3a\"],[0.8888888888888888,\"#fdca26\"],[1.0,\"#f0f921\"]],\"type\":\"heatmapgl\"}],\"histogram\":[{\"marker\":{\"pattern\":{\"fillmode\":\"overlay\",\"size\":10,\"solidity\":0.2}},\"type\":\"histogram\"}],\"histogram2d\":[{\"colorbar\":{\"outlinewidth\":0,\"ticks\":\"\"},\"colorscale\":[[0.0,\"#0d0887\"],[0.1111111111111111,\"#46039f\"],[0.2222222222222222,\"#7201a8\"],[0.3333333333333333,\"#9c179e\"],[0.4444444444444444,\"#bd3786\"],[0.5555555555555556,\"#d8576b\"],[0.6666666666666666,\"#ed7953\"],[0.7777777777777778,\"#fb9f3a\"],[0.8888888888888888,\"#fdca26\"],[1.0,\"#f0f921\"]],\"type\":\"histogram2d\"}],\"histogram2dcontour\":[{\"colorbar\":{\"outlinewidth\":0,\"ticks\":\"\"},\"colorscale\":[[0.0,\"#0d0887\"],[0.1111111111111111,\"#46039f\"],[0.2222222222222222,\"#7201a8\"],[0.3333333333333333,\"#9c179e\"],[0.4444444444444444,\"#bd3786\"],[0.5555555555555556,\"#d8576b\"],[0.6666666666666666,\"#ed7953\"],[0.7777777777777778,\"#fb9f3a\"],[0.8888888888888888,\"#fdca26\"],[1.0,\"#f0f921\"]],\"type\":\"histogram2dcontour\"}],\"mesh3d\":[{\"colorbar\":{\"outlinewidth\":0,\"ticks\":\"\"},\"type\":\"mesh3d\"}],\"parcoords\":[{\"line\":{\"colorbar\":{\"outlinewidth\":0,\"ticks\":\"\"}},\"type\":\"parcoords\"}],\"pie\":[{\"automargin\":true,\"type\":\"pie\"}],\"scatter\":[{\"marker\":{\"colorbar\":{\"outlinewidth\":0,\"ticks\":\"\"}},\"type\":\"scatter\"}],\"scatter3d\":[{\"line\":{\"colorbar\":{\"outlinewidth\":0,\"ticks\":\"\"}},\"marker\":{\"colorbar\":{\"outlinewidth\":0,\"ticks\":\"\"}},\"type\":\"scatter3d\"}],\"scattercarpet\":[{\"marker\":{\"colorbar\":{\"outlinewidth\":0,\"ticks\":\"\"}},\"type\":\"scattercarpet\"}],\"scattergeo\":[{\"marker\":{\"colorbar\":{\"outlinewidth\":0,\"ticks\":\"\"}},\"type\":\"scattergeo\"}],\"scattergl\":[{\"marker\":{\"colorbar\":{\"outlinewidth\":0,\"ticks\":\"\"}},\"type\":\"scattergl\"}],\"scattermapbox\":[{\"marker\":{\"colorbar\":{\"outlinewidth\":0,\"ticks\":\"\"}},\"type\":\"scattermapbox\"}],\"scatterpolar\":[{\"marker\":{\"colorbar\":{\"outlinewidth\":0,\"ticks\":\"\"}},\"type\":\"scatterpolar\"}],\"scatterpolargl\":[{\"marker\":{\"colorbar\":{\"outlinewidth\":0,\"ticks\":\"\"}},\"type\":\"scatterpolargl\"}],\"scatterternary\":[{\"marker\":{\"colorbar\":{\"outlinewidth\":0,\"ticks\":\"\"}},\"type\":\"scatterternary\"}],\"surface\":[{\"colorbar\":{\"outlinewidth\":0,\"ticks\":\"\"},\"colorscale\":[[0.0,\"#0d0887\"],[0.1111111111111111,\"#46039f\"],[0.2222222222222222,\"#7201a8\"],[0.3333333333333333,\"#9c179e\"],[0.4444444444444444,\"#bd3786\"],[0.5555555555555556,\"#d8576b\"],[0.6666666666666666,\"#ed7953\"],[0.7777777777777778,\"#fb9f3a\"],[0.8888888888888888,\"#fdca26\"],[1.0,\"#f0f921\"]],\"type\":\"surface\"}],\"table\":[{\"cells\":{\"fill\":{\"color\":\"#EBF0F8\"},\"line\":{\"color\":\"white\"}},\"header\":{\"fill\":{\"color\":\"#C8D4E3\"},\"line\":{\"color\":\"white\"}},\"type\":\"table\"}]},\"layout\":{\"annotationdefaults\":{\"arrowcolor\":\"#2a3f5f\",\"arrowhead\":0,\"arrowwidth\":1},\"autotypenumbers\":\"strict\",\"coloraxis\":{\"colorbar\":{\"outlinewidth\":0,\"ticks\":\"\"}},\"colorscale\":{\"diverging\":[[0,\"#8e0152\"],[0.1,\"#c51b7d\"],[0.2,\"#de77ae\"],[0.3,\"#f1b6da\"],[0.4,\"#fde0ef\"],[0.5,\"#f7f7f7\"],[0.6,\"#e6f5d0\"],[0.7,\"#b8e186\"],[0.8,\"#7fbc41\"],[0.9,\"#4d9221\"],[1,\"#276419\"]],\"sequential\":[[0.0,\"#0d0887\"],[0.1111111111111111,\"#46039f\"],[0.2222222222222222,\"#7201a8\"],[0.3333333333333333,\"#9c179e\"],[0.4444444444444444,\"#bd3786\"],[0.5555555555555556,\"#d8576b\"],[0.6666666666666666,\"#ed7953\"],[0.7777777777777778,\"#fb9f3a\"],[0.8888888888888888,\"#fdca26\"],[1.0,\"#f0f921\"]],\"sequentialminus\":[[0.0,\"#0d0887\"],[0.1111111111111111,\"#46039f\"],[0.2222222222222222,\"#7201a8\"],[0.3333333333333333,\"#9c179e\"],[0.4444444444444444,\"#bd3786\"],[0.5555555555555556,\"#d8576b\"],[0.6666666666666666,\"#ed7953\"],[0.7777777777777778,\"#fb9f3a\"],[0.8888888888888888,\"#fdca26\"],[1.0,\"#f0f921\"]]},\"colorway\":[\"#636efa\",\"#EF553B\",\"#00cc96\",\"#ab63fa\",\"#FFA15A\",\"#19d3f3\",\"#FF6692\",\"#B6E880\",\"#FF97FF\",\"#FECB52\"],\"font\":{\"color\":\"#2a3f5f\"},\"geo\":{\"bgcolor\":\"white\",\"lakecolor\":\"white\",\"landcolor\":\"#E5ECF6\",\"showlakes\":true,\"showland\":true,\"subunitcolor\":\"white\"},\"hoverlabel\":{\"align\":\"left\"},\"hovermode\":\"closest\",\"mapbox\":{\"style\":\"light\"},\"paper_bgcolor\":\"white\",\"plot_bgcolor\":\"#E5ECF6\",\"polar\":{\"angularaxis\":{\"gridcolor\":\"white\",\"linecolor\":\"white\",\"ticks\":\"\"},\"bgcolor\":\"#E5ECF6\",\"radialaxis\":{\"gridcolor\":\"white\",\"linecolor\":\"white\",\"ticks\":\"\"}},\"scene\":{\"xaxis\":{\"backgroundcolor\":\"#E5ECF6\",\"gridcolor\":\"white\",\"gridwidth\":2,\"linecolor\":\"white\",\"showbackground\":true,\"ticks\":\"\",\"zerolinecolor\":\"white\"},\"yaxis\":{\"backgroundcolor\":\"#E5ECF6\",\"gridcolor\":\"white\",\"gridwidth\":2,\"linecolor\":\"white\",\"showbackground\":true,\"ticks\":\"\",\"zerolinecolor\":\"white\"},\"zaxis\":{\"backgroundcolor\":\"#E5ECF6\",\"gridcolor\":\"white\",\"gridwidth\":2,\"linecolor\":\"white\",\"showbackground\":true,\"ticks\":\"\",\"zerolinecolor\":\"white\"}},\"shapedefaults\":{\"line\":{\"color\":\"#2a3f5f\"}},\"ternary\":{\"aaxis\":{\"gridcolor\":\"white\",\"linecolor\":\"white\",\"ticks\":\"\"},\"baxis\":{\"gridcolor\":\"white\",\"linecolor\":\"white\",\"ticks\":\"\"},\"bgcolor\":\"#E5ECF6\",\"caxis\":{\"gridcolor\":\"white\",\"linecolor\":\"white\",\"ticks\":\"\"}},\"title\":{\"x\":0.05},\"xaxis\":{\"automargin\":true,\"gridcolor\":\"white\",\"linecolor\":\"white\",\"ticks\":\"\",\"title\":{\"standoff\":15},\"zerolinecolor\":\"white\",\"zerolinewidth\":2},\"yaxis\":{\"automargin\":true,\"gridcolor\":\"white\",\"linecolor\":\"white\",\"ticks\":\"\",\"title\":{\"standoff\":15},\"zerolinecolor\":\"white\",\"zerolinewidth\":2}}},\"shapes\":[{\"line\":{\"color\":\"red\"},\"type\":\"line\",\"x0\":0,\"x1\":1,\"xref\":\"x domain\",\"y0\":10.943666666666669,\"y1\":10.943666666666669,\"yref\":\"y\"}],\"annotations\":[{\"showarrow\":false,\"text\":\"1981-2010 Mean: 10.9\\u00b0C\",\"x\":0,\"xanchor\":\"left\",\"xref\":\"x domain\",\"y\":10.943666666666669,\"yanchor\":\"bottom\",\"yref\":\"y\"}],\"xaxis\":{\"tickmode\":\"array\",\"range\":[1890,2021],\"title\":{\"text\":\"Year\"},\"showgrid\":true,\"gridwidth\":1,\"gridcolor\":\"gray\",\"mirror\":true,\"ticks\":\"outside\",\"showline\":true},\"title\":{\"text\":\"Raleigh, NC November Average Temperature\",\"x\":0.5},\"font\":{\"size\":14},\"yaxis\":{\"title\":{\"text\":\"Temperature \\u00b0C\"},\"showgrid\":true,\"gridwidth\":1,\"gridcolor\":\"gray\",\"mirror\":true,\"ticks\":\"outside\",\"showline\":true},\"showlegend\":false},                        {\"responsive\": true}                    ).then(function(){\n",
       "                            \n",
       "var gd = document.getElementById('a2bc7400-0054-4879-a2ff-64558ef922cf');\n",
       "var x = new MutationObserver(function (mutations, observer) {{\n",
       "        var display = window.getComputedStyle(gd).display;\n",
       "        if (!display || display === 'none') {{\n",
       "            console.log([gd, 'removed!']);\n",
       "            Plotly.purge(gd);\n",
       "            observer.disconnect();\n",
       "        }}\n",
       "}});\n",
       "\n",
       "// Listen for the removal of the full notebook cells\n",
       "var notebookContainer = gd.closest('#notebook-container');\n",
       "if (notebookContainer) {{\n",
       "    x.observe(notebookContainer, {childList: true});\n",
       "}}\n",
       "\n",
       "// Listen for the clearing of the current output cell\n",
       "var outputEl = gd.closest('.output');\n",
       "if (outputEl) {{\n",
       "    x.observe(outputEl, {childList: true});\n",
       "}}\n",
       "\n",
       "                        })                };                });            </script>        </div>"
      ]
     },
     "metadata": {},
     "output_type": "display_data"
    }
   ],
   "source": [
    "City_Temperature_Timeseries_Analysis()"
   ]
  },
  {
   "cell_type": "code",
   "execution_count": 3,
   "id": "f194a375",
   "metadata": {},
   "outputs": [],
   "source": [
    "import numpy as np\n",
    "import pandas as pd\n",
    "import textwrap\n",
    "import nbimporter\n",
    "\n",
    "import ipywidgets as widgets\n",
    "from ipywidgets import interact, interact_manual\n",
    "import IPython.display\n",
    "from IPython.display import display, clear_output\n",
    "import plotly.graph_objects as go\n",
    "\n",
    "from analyze_global_temp_anomalies import analyze_global_temp_anomalies\n",
    "\n",
    "def Global_Temperature_Anomalies_Analysis():\n",
    "    \n",
    "    \"\"\"\n",
    "    Function call to produce the Global Average Temperature Anomalies Visualization and Widgets.\n",
    "    \n",
    "    \"\"\"\n",
    "    ## Details year range to be supplied to dropdown menu\n",
    "    years = range(1890, 2021+1)\n",
    "    \n",
    "    ## Details the months to be supplied to dropdown menu\n",
    "    months = ['January', 'February', 'March', 'April',\n",
    "                  'May', 'June', 'July', 'August', 'September',\n",
    "                  'October', 'November', 'December']\n",
    "\n",
    "    def dropdown_menu_widget_Global_Climate(years, months):\n",
    "        \n",
    "        \"\"\"\n",
    "        Function produces widgets that are functional with the years and months specified. Only those listed \n",
    "        above in the full function will sufficiently work with the software. The widgets prompted are dropdown menus. \n",
    "        This function calls the 'analyze_global_temp_anomalies' function from the repo to produce the global temperature\n",
    "        anomalies map. Upon any change to one of the dropdown menus' values, the software will automatically update \n",
    "        the map without any other functions called.\n",
    "        \n",
    "        Inputs:\n",
    "        \n",
    "        years (range): range of years which contains a year for anomaly analysis\n",
    "        \n",
    "        months (list): elements that are one of the months of the year\n",
    "        \n",
    "        Returns:\n",
    "        Widgets containing the year and month for the user to choose. Upon filling\n",
    "        these out, the global anomaly map visualization will be prompted.\n",
    "    \n",
    "        \"\"\"\n",
    "        \n",
    "        output = widgets.Output()\n",
    "        \n",
    "        ## Create dropdown menus\n",
    "        dropdown_years = widgets.Dropdown(options = years, value=None, description='Year:')\n",
    "        dropdown_months = widgets.Dropdown(options = months, value=None, description='Month:')\n",
    "\n",
    "        ## Define the event handlers. These functions handle changes to the dropdown menu values. Every time there is\n",
    "        #     a change to one of the menus by the user, the analysis is rerun to produce an updated map. The previous\n",
    "        #     map is also cleared\n",
    "        def dropdown_year_eventhandler(change):\n",
    "            \"\"\"\n",
    "            Eventhandler for the years dropdown widget\n",
    "            \"\"\"\n",
    "            clear_output()\n",
    "            display(input_widgets)\n",
    "            year_choice = change.new\n",
    "            analyze_global_temp_anomalies(year_choice, dropdown_months.value)\n",
    "            IPython.display.clear_output(wait=True) \n",
    "\n",
    "        def dropdown_month_eventhandler(change):\n",
    "            \"\"\"\n",
    "            Eventhandler for the month dropdown widget\n",
    "            \"\"\"\n",
    "            clear_output()\n",
    "            display(input_widgets)\n",
    "            month_choice = change.new\n",
    "            analyze_global_temp_anomalies(dropdown_years.value, month_choice)\n",
    "            IPython.display.clear_output(wait=True)  \n",
    "\n",
    "        ## Lines that observe the changes to the dropdown menus and runs any necessary functions above\n",
    "        dropdown_years.observe(dropdown_year_eventhandler, names='value')\n",
    "        dropdown_months.observe(dropdown_month_eventhandler, names='value')\n",
    "        \n",
    "        ## Creates the widgets shown on screen\n",
    "        input_widgets = widgets.HBox([dropdown_years, dropdown_months])\n",
    "\n",
    "        ## Displaying widgets\n",
    "        display(input_widgets)\n",
    "        IPython.display.clear_output(wait=True)\n",
    "\n",
    "        return\n",
    "    \n",
    "    ## Ending call to widget function from the main function which contains the required input lists for the software\n",
    "    dropdown_menu_widget_Global_Climate(years, months)\n",
    "    \n",
    "    return\n",
    "\n",
    "## Testing for these functions are manually completed by which if the dropdown menus display the maps and update the maps\n",
    "#     accordingly then these functions are sufficient"
   ]
  },
  {
   "cell_type": "code",
   "execution_count": 4,
   "id": "37712106",
   "metadata": {},
   "outputs": [
    {
     "data": {
      "application/vnd.jupyter.widget-view+json": {
       "model_id": "b8f9b922f0504d04b1917336d07c3619",
       "version_major": 2,
       "version_minor": 0
      },
      "text/plain": [
       "HBox(children=(Dropdown(description='Year:', index=125, options=(1890, 1891, 1892, 1893, 1894, 1895, 1896, 189…"
      ]
     },
     "metadata": {},
     "output_type": "display_data"
    },
    {
     "data": {
      "image/png": "[encoded data removed]",
      "text/plain": [
       "<Figure size 1296x720 with 2 Axes>"
      ]
     },
     "metadata": {
      "needs_background": "light"
     },
     "output_type": "display_data"
    }
   ],
   "source": [
    "Global_Temperature_Anomalies_Analysis()"
   ]
  },
  {
   "cell_type": "markdown",
   "id": "f8edbb9b",
   "metadata": {},
   "source": [
    "<br>\n",
    "<br>\n",
    "<br>\n",
    "<br>\n",
    "<br>\n",
    "<br>\n",
    "<br>\n",
    "<br>\n",
    "<br>\n",
    "<br>\n",
    "<br>\n",
    "<br>\n",
    "<br>\n",
    "<br>\n",
    "<br>\n",
    "<br>\n",
    "<br>\n",
    "<br>\n",
    "<br>\n",
    "<br>\n",
    "<br>\n",
    "<br>\n",
    "<br>\n",
    "<br>\n",
    "<br>\n",
    "<br>\n",
    "<br>\n",
    "<br>\n",
    "<br>\n",
    "<br>\n",
    "<br>\n",
    "<br>\n",
    "<br>\n",
    "<br>\n",
    "<br>\n",
    "<br>\n",
    "<br>\n",
    "<br>\n",
    "<br>\n",
    "<br>"
   ]
  },
  {
   "cell_type": "code",
   "execution_count": null,
   "id": "6511fdb4",
   "metadata": {},
   "outputs": [],
   "source": []
  }
 ],
 "metadata": {
  "kernelspec": {
   "display_name": "Python 3 (ipykernel)",
   "language": "python",
   "name": "python3"
  },
  "language_info": {
   "codemirror_mode": {
    "name": "ipython",
    "version": 3
   },
   "file_extension": ".py",
   "mimetype": "text/x-python",
   "name": "python",
   "nbconvert_exporter": "python",
   "pygments_lexer": "ipython3",
   "version": "3.9.12"
  }
 },
 "nbformat": 4,
 "nbformat_minor": 5
}
