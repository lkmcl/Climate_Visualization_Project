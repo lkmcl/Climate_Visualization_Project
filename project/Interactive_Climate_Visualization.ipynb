{
 "cells": [
  {
   "cell_type": "code",
   "execution_count": 1,
   "id": "c6240680",
   "metadata": {},
   "outputs": [],
   "source": [
    "import numpy as np\n",
    "import pandas as pd\n",
    "import textwrap\n",
    "\n",
    "import ipywidgets as widgets\n",
    "from ipywidgets import interact, interact_manual\n",
    "import IPython.display\n",
    "from IPython.display import display, clear_output\n",
    "\n",
    "import plotly.graph_objects as go\n",
    "\n",
    "def dropdown_menu_widget_City_Climate(locations, timescales, start_year, end_year):\n",
    "    \n",
    "    output = widgets.Output()\n",
    "\n",
    "    dropdown_locations = widgets.Dropdown(options = sorted(locations), value=None, description='Cities:')\n",
    "    dropdown_timescales = widgets.Dropdown(options = timescales, value=None, description='Timescale/Month:')\n",
    "    dropdown_start_year = widgets.Dropdown(options = year_range, value=None, description='Start Year:')\n",
    "    dropdown_end_year = widgets.Dropdown(options = year_range, value=None, description='End Year:')\n",
    "    "
   ]
  },
  {
   "cell_type": "code",
   "execution_count": null,
   "id": "27bcc14f",
   "metadata": {},
   "outputs": [],
   "source": []
  }
 ],
 "metadata": {
  "kernelspec": {
   "display_name": "Python 3 (ipykernel)",
   "language": "python",
   "name": "python3"
  },
  "language_info": {
   "codemirror_mode": {
    "name": "ipython",
    "version": 3
   },
   "file_extension": ".py",
   "mimetype": "text/x-python",
   "name": "python",
   "nbconvert_exporter": "python",
   "pygments_lexer": "ipython3",
   "version": "3.9.7"
  }
 },
 "nbformat": 4,
 "nbformat_minor": 5
}
