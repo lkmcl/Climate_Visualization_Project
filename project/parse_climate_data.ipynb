{
 "cells": [
  {
   "cell_type": "code",
   "execution_count": 35,
   "id": "c6240680",
   "metadata": {},
   "outputs": [
    {
     "data": {
      "text/plain": [
       "['/Users/loganmclaurin/Desktop/GitHub/dsc_495_014_fall_22/project/CONUS_city_climate_stats/USC00317074.FLs.52j.tavg']"
      ]
     },
     "execution_count": 35,
     "metadata": {},
     "output_type": "execute_result"
    }
   ],
   "source": [
    "import glob\n",
    "import os\n",
    "import nbimporter\n",
    "from pull_location_file import pull_location_file\n",
    "\n",
    "def parse_climate_data(used_filename):\n",
    "    \n",
    "    \"\"\"\n",
    "    Processes a city climate data file that includes and format into a Pandas dataframe.\n",
    "    Values of -9999 are interpreted as missing values. Each datapoint is scaled accordingly.\n",
    "    \n",
    "    Parameters:\n",
    "        filename (String) - The filename of the city climate file to be parsed.\n",
    "    Returns:\n",
    "        (df_city) - A DataFrame containing all of the parsed and adjusted data.\n",
    "    \"\"\"\n",
    "    \n",
    "    headings = ['Station Climate ID', 'Year', 'January', 'February', 'March', 'April',\n",
    "                                 'May', 'June', 'July', 'August', 'September',\n",
    "                                 'October', 'November', 'December']\n",
    "    \n",
    "    # We need to specify the widths as the default colspec 'infer' does not correctly pick up rarely seen missing data values. \n",
    "\n",
    "    widths = [11, 4, 9, 9, 9, 9, 9, 9, 9, 9, 9, 9, 9, 9]\n",
    "\n",
    "    df = pd.read_csv(filename)\n",
    "\n",
    "    return df\n",
    "\n",
    "pull_location_file('Raleigh, NC')\n"
   ]
  },
  {
   "cell_type": "code",
   "execution_count": null,
   "id": "ad301391",
   "metadata": {},
   "outputs": [],
   "source": []
  },
  {
   "cell_type": "code",
   "execution_count": null,
   "id": "51e604a8",
   "metadata": {},
   "outputs": [],
   "source": []
  }
 ],
 "metadata": {
  "kernelspec": {
   "display_name": "Python 3 (ipykernel)",
   "language": "python",
   "name": "python3"
  },
  "language_info": {
   "codemirror_mode": {
    "name": "ipython",
    "version": 3
   },
   "file_extension": ".py",
   "mimetype": "text/x-python",
   "name": "python",
   "nbconvert_exporter": "python",
   "pygments_lexer": "ipython3",
   "version": "3.9.7"
  }
 },
 "nbformat": 4,
 "nbformat_minor": 5
}
