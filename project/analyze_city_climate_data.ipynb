{
 "cells": [
  {
   "cell_type": "code",
   "execution_count": 1,
   "id": "3967f45a",
   "metadata": {},
   "outputs": [
    {
     "ename": "ModuleNotFoundError",
     "evalue": "No module named 'plotly'",
     "output_type": "error",
     "traceback": [
      "\u001b[0;31m---------------------------------------------------------------------------\u001b[0m",
      "\u001b[0;31mModuleNotFoundError\u001b[0m                       Traceback (most recent call last)",
      "\u001b[0;32m/var/folders/xs/4r4rwjv144lgbmrybk6q8v5c0000gn/T/ipykernel_8386/2908956513.py\u001b[0m in \u001b[0;36m<module>\u001b[0;34m\u001b[0m\n\u001b[1;32m      1\u001b[0m \u001b[0;32mimport\u001b[0m \u001b[0mpandas\u001b[0m \u001b[0;32mas\u001b[0m \u001b[0mpd\u001b[0m\u001b[0;34m\u001b[0m\u001b[0;34m\u001b[0m\u001b[0m\n\u001b[1;32m      2\u001b[0m \u001b[0;32mimport\u001b[0m \u001b[0mnbimporter\u001b[0m\u001b[0;34m\u001b[0m\u001b[0;34m\u001b[0m\u001b[0m\n\u001b[0;32m----> 3\u001b[0;31m \u001b[0;32mimport\u001b[0m \u001b[0mplotly\u001b[0m\u001b[0;34m.\u001b[0m\u001b[0mgraph_objects\u001b[0m \u001b[0;32mas\u001b[0m \u001b[0mgo\u001b[0m\u001b[0;34m\u001b[0m\u001b[0;34m\u001b[0m\u001b[0m\n\u001b[0m\u001b[1;32m      4\u001b[0m \u001b[0;32mfrom\u001b[0m \u001b[0mload_city_climate_files\u001b[0m \u001b[0;32mimport\u001b[0m \u001b[0mpull_location_file\u001b[0m\u001b[0;34m,\u001b[0m \u001b[0mparse_climate_data\u001b[0m\u001b[0;34m\u001b[0m\u001b[0;34m\u001b[0m\u001b[0m\n\u001b[1;32m      5\u001b[0m \u001b[0;34m\u001b[0m\u001b[0m\n",
      "\u001b[0;31mModuleNotFoundError\u001b[0m: No module named 'plotly'"
     ]
    }
   ],
   "source": [
    "import pandas as pd\n",
    "import nbimporter\n",
    "import plotly.graph_objects as go\n",
    "from load_city_climate_files import pull_location_file, parse_climate_data\n",
    "\n",
    "def analyze_city_climate_data(location, timescale, start_year, end_year):\n",
    "    \n",
    "    year_range = range(int(start_year), int(end_year+1))\n",
    "    \n",
    "    used_file_path = pull_location_file(location)\n",
    "    \n",
    "    df_city_data = parse_climate_data(used_file_path)\n",
    "    \n",
    "    if timescale == 'Annual':\n",
    "        \n",
    "        df_city_data['Average'] = df_city_data[['January','February','March','April','May','June','July','August',\n",
    "       'September','October','November','December']].mean(axis=1)\n",
    "        \n",
    "        df_city_data = df_city_data.dropna()\n",
    "        \n",
    "        plotted_data = df_city_data['Average']\n",
    "        \n",
    "    else:\n",
    "        \n",
    "        df_city_data = df_city_data.dropna(subset=[timescale])\n",
    "        \n",
    "        plotted_data = df_city_data[timescale]\n",
    "    \n",
    "    fig = go.Figure()\n",
    "     \n",
    "    fig.add_trace(go.Scatter(x=df_city_data['Year'],\n",
    "            y=plotted_data,\n",
    "                    mode='lines+markers'))\n",
    "    \n",
    "    fig.update_layout(xaxis=dict(\n",
    "        tickmode=\"array\",\n",
    "        range = [start_year, end_year]),\n",
    "        xaxis_title=\"Year\",\n",
    "        yaxis_title=\"Temperature °C\",\n",
    "        \n",
    "        title = location + ' ' + timescale + ' Average Temperature', \n",
    "        title_x=0.5)\n",
    "    \n",
    "    fig.update_xaxes(showgrid=True, gridwidth=1, gridcolor='gray',mirror=True,ticks='outside',showline=True)\n",
    "    fig.update_yaxes(showgrid=True, gridwidth=1, gridcolor='gray',mirror=True,ticks='outside',showline=True)\n",
    "    \n",
    "    fig.show()\n",
    "    \n",
    "    \n",
    "location = 'Albany, NY'\n",
    "timescale = 'January'\n",
    "start_year = 1890\n",
    "end_year = 2021\n",
    "analyze_city_climate_data(location, timescale, start_year, end_year)"
   ]
  },
  {
   "cell_type": "code",
   "execution_count": 15,
   "id": "33363f5e",
   "metadata": {},
   "outputs": [
    {
     "ename": "NameError",
     "evalue": "name 'used_filename' is not defined",
     "output_type": "error",
     "traceback": [
      "\u001b[1;31m---------------------------------------------------------------------------\u001b[0m",
      "\u001b[1;31mNameError\u001b[0m                                 Traceback (most recent call last)",
      "Input \u001b[1;32mIn [15]\u001b[0m, in \u001b[0;36m<cell line: 5>\u001b[1;34m()\u001b[0m\n\u001b[0;32m      3\u001b[0m start_year \u001b[38;5;241m=\u001b[39m \u001b[38;5;241m1890\u001b[39m\n\u001b[0;32m      4\u001b[0m end_year \u001b[38;5;241m=\u001b[39m \u001b[38;5;241m2021\u001b[39m\n\u001b[1;32m----> 5\u001b[0m \u001b[43manalyze_city_climate_data\u001b[49m\u001b[43m(\u001b[49m\u001b[43mlocation\u001b[49m\u001b[43m,\u001b[49m\u001b[43m \u001b[49m\u001b[43mtimescale\u001b[49m\u001b[43m,\u001b[49m\u001b[43m \u001b[49m\u001b[43mstart_year\u001b[49m\u001b[43m,\u001b[49m\u001b[43m \u001b[49m\u001b[43mend_year\u001b[49m\u001b[43m)\u001b[49m\n",
      "Input \u001b[1;32mIn [5]\u001b[0m, in \u001b[0;36manalyze_city_climate_data\u001b[1;34m(location, timescale, start_year, end_year)\u001b[0m\n\u001b[0;32m      5\u001b[0m \u001b[38;5;28;01mdef\u001b[39;00m \u001b[38;5;21manalyze_city_climate_data\u001b[39m(location, timescale, start_year, end_year):\n\u001b[0;32m      7\u001b[0m     used_file_path \u001b[38;5;241m=\u001b[39m pull_location_file(location)\n\u001b[1;32m----> 9\u001b[0m     df_city_data \u001b[38;5;241m=\u001b[39m parse_climate_data(\u001b[43mused_filename\u001b[49m)\n\u001b[0;32m     11\u001b[0m     \u001b[38;5;28;01mif\u001b[39;00m timescale \u001b[38;5;241m==\u001b[39m \u001b[38;5;124m'\u001b[39m\u001b[38;5;124mAnnual\u001b[39m\u001b[38;5;124m'\u001b[39m:\n\u001b[0;32m     13\u001b[0m         df_city_data[\u001b[38;5;124m'\u001b[39m\u001b[38;5;124maverage\u001b[39m\u001b[38;5;124m'\u001b[39m] \u001b[38;5;241m=\u001b[39m df_city_data[[\u001b[38;5;124m'\u001b[39m\u001b[38;5;124mJanuary\u001b[39m\u001b[38;5;124m'\u001b[39m,\u001b[38;5;124m'\u001b[39m\u001b[38;5;124mFebruary\u001b[39m\u001b[38;5;124m'\u001b[39m,\u001b[38;5;124m'\u001b[39m\u001b[38;5;124mMarch\u001b[39m\u001b[38;5;124m'\u001b[39m,\u001b[38;5;124m'\u001b[39m\u001b[38;5;124mApril\u001b[39m\u001b[38;5;124m'\u001b[39m,\u001b[38;5;124m'\u001b[39m\u001b[38;5;124mMay\u001b[39m\u001b[38;5;124m'\u001b[39m,\u001b[38;5;124m'\u001b[39m\u001b[38;5;124mJune\u001b[39m\u001b[38;5;124m'\u001b[39m,\u001b[38;5;124m'\u001b[39m\u001b[38;5;124mJuly\u001b[39m\u001b[38;5;124m'\u001b[39m,\u001b[38;5;124m'\u001b[39m\u001b[38;5;124mAugust\u001b[39m\u001b[38;5;124m'\u001b[39m,\n\u001b[0;32m     14\u001b[0m        \u001b[38;5;124m'\u001b[39m\u001b[38;5;124mSeptember\u001b[39m\u001b[38;5;124m'\u001b[39m,\u001b[38;5;124m'\u001b[39m\u001b[38;5;124mOctober\u001b[39m\u001b[38;5;124m'\u001b[39m,\u001b[38;5;124m'\u001b[39m\u001b[38;5;124mNovember\u001b[39m\u001b[38;5;124m'\u001b[39m,\u001b[38;5;124m'\u001b[39m\u001b[38;5;124mDecember\u001b[39m\u001b[38;5;124m'\u001b[39m]]\u001b[38;5;241m.\u001b[39mmean(axis\u001b[38;5;241m=\u001b[39m\u001b[38;5;241m1\u001b[39m)\n",
      "\u001b[1;31mNameError\u001b[0m: name 'used_filename' is not defined"
     ]
    }
   ],
   "source": []
  },
  {
   "cell_type": "code",
   "execution_count": null,
   "id": "2cb5cbec",
   "metadata": {},
   "outputs": [],
   "source": []
  }
 ],
 "metadata": {
  "kernelspec": {
   "display_name": "Python 3 (ipykernel)",
   "language": "python",
   "name": "python3"
  },
  "language_info": {
   "codemirror_mode": {
    "name": "ipython",
    "version": 3
   },
   "file_extension": ".py",
   "mimetype": "text/x-python",
   "name": "python",
   "nbconvert_exporter": "python",
   "pygments_lexer": "ipython3",
   "version": "3.9.7"
  }
 },
 "nbformat": 4,
 "nbformat_minor": 5
}
