{
 "cells": [
  {
   "cell_type": "code",
   "execution_count": 35,
   "id": "c6240680",
   "metadata": {},
   "outputs": [
    {
     "data": {
      "text/plain": [
       "['/Users/loganmclaurin/Desktop/GitHub/dsc_495_014_fall_22/project/CONUS_city_climate_stats/USC00317074.FLs.52j.tavg']"
      ]
     },
     "execution_count": 35,
     "metadata": {},
     "output_type": "execute_result"
    }
   ],
   "source": [
    "import glob\n",
    "import os\n",
    "import nbimporter\n",
    "from pull_location_file import pull_location_file\n",
    "\n",
    "\n",
    "from netCDF4 import Dataset \n",
    "import numpy as np\n",
    "import xarray as xr\n",
    "my_example_file = r'C://Users//lkmclaurin//Desktop//NOAA_GlobalAvgTemp_5deg.nc'\n",
    "fh = Dataset(my_example_file, mode='r')\n",
    "\n",
    "p = fh.variables\n",
    "\n",
    "lats = fh.variables['lat'][:]\n",
    "z = fh.variables['z'][:]\n",
    "anom = fh.variables['anom'][:]\n",
    "\n",
    "\n",
    "ds = xr.open_dataset(r'C://Users//lkmclaurin//Desktop//NOAA_GlobalAvgTemp_5deg.nc')\n",
    "df = ds.to_dataframe()\n"
   ]
  },
  {
   "cell_type": "code",
   "execution_count": null,
   "id": "ad301391",
   "metadata": {},
   "outputs": [],
   "source": []
  },
  {
   "cell_type": "code",
   "execution_count": null,
   "id": "51e604a8",
   "metadata": {},
   "outputs": [],
   "source": []
  }
 ],
 "metadata": {
  "kernelspec": {
   "display_name": "Python 3 (ipykernel)",
   "language": "python",
   "name": "python3"
  },
  "language_info": {
   "codemirror_mode": {
    "name": "ipython",
    "version": 3
   },
   "file_extension": ".py",
   "mimetype": "text/x-python",
   "name": "python",
   "nbconvert_exporter": "python",
   "pygments_lexer": "ipython3",
   "version": "3.9.12"
  }
 },
 "nbformat": 4,
 "nbformat_minor": 5
}
